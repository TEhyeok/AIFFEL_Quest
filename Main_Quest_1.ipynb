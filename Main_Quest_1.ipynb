{
  "nbformat": 4,
  "nbformat_minor": 0,
  "metadata": {
    "colab": {
      "provenance": [],
      "authorship_tag": "ABX9TyNW60JJQZEXVOnzaQ4yqtCK",
      "include_colab_link": true
    },
    "kernelspec": {
      "name": "python3",
      "display_name": "Python 3"
    },
    "language_info": {
      "name": "python"
    }
  },
  "cells": [
    {
      "cell_type": "markdown",
      "metadata": {
        "id": "view-in-github",
        "colab_type": "text"
      },
      "source": [
        "<a href=\"https://colab.research.google.com/github/TEhyeok/AIFFEL_quest/blob/main/Main_Quest_1.ipynb\" target=\"_parent\"><img src=\"https://colab.research.google.com/assets/colab-badge.svg\" alt=\"Open In Colab\"/></a>"
      ]
    },
    {
      "cell_type": "code",
      "execution_count": 19,
      "metadata": {
        "id": "2ucRJ_RyEuEZ"
      },
      "outputs": [],
      "source": [
        "import random\n",
        "# Q1. 랜덤하게 계좌번호 생성\n",
        "\n",
        "class Account:\n",
        "    # Q2. 생성된 계좌의 객체 개수를 저장\n",
        "    account_count = 0\n",
        "\n",
        "    def __init__(self, owner, base):\n",
        "        # 계좌의 기본 은행 이름\n",
        "        self.bank = \"SC은행\"\n",
        "        # Q1.예금주\n",
        "        self.owner = owner\n",
        "        # Q1.초기 잔액\n",
        "        self.base = base\n",
        "        # Q1.계좌번호 생성: 3자리-2자리-6자리 형태로 랜덤한 번호를 생성\n",
        "        self.account_number = str(random.randint(100,999)) + '-' + str(random.randint(10,99)) + '-' + str(random.randint(100000,999999))\n",
        "        # Q2. 총 계좌 개수를 증가\n",
        "        Account.account_count += 1\n",
        "        # 입금 횟수 초기화\n",
        "        self.deposit_count = 0\n",
        "        # 입금 내역과 출금 내역 리스트 초기화\n",
        "        self.deposit_log = []\n",
        "        self.withdraw_log = []\n",
        "\n",
        "    @classmethod\n",
        "    def get_account_num(cls):\n",
        "        # Q3. Account 클래스로부터 생성된 계좌의 개수를 출력\n",
        "        return cls.account_count\n",
        "\n",
        "    def deposit(self, amount):\n",
        "        # Q4. 입금 메서드\n",
        "        if amount >= 1:\n",
        "            self.base += amount\n",
        "            self.deposit_count += 1\n",
        "            self.deposit_log.append(amount)\n",
        "            # Q7. 5번째 입금마다 1%의 이자가 잔액에 추가\n",
        "            if self.deposit_count % 5 == 0:\n",
        "                # 이자 지급\n",
        "                self.base += self.base * 0.01\n",
        "\n",
        "    def withdraw(self, amount):\n",
        "        # Q5. 출금 메서드\n",
        "        if self.base >= amount:\n",
        "            self.base -= amount\n",
        "            self.withdraw_log.append(amount)\n",
        "        else:\n",
        "            print(f\"출금 요청 금액이 잔고보다 많습니다. 현재 잔고: {format(self.base, ',')}원\")\n",
        "\n",
        "\n",
        "    def display_info(self):\n",
        "        # Q6. 계좌 정보 출력 메서드\n",
        "        print(\"은행이름:\", self.bank)\n",
        "        print(\"예금주:\", self.owner)\n",
        "        print(\"계좌번호:\", self.account_number)\n",
        "        print(\"잔고:\", format(self.base, ',') + \"원\")\n",
        "\n",
        "    def deposit_history(self):\n",
        "        # Q10. 입금 내역 출력 메서드\n",
        "        for deposit in self.deposit_log:\n",
        "            print(deposit)\n",
        "\n",
        "    def withdraw_history(self):\n",
        "        # Q10. 출금 내역 출력 메서드\n",
        "        for withdrawal in self.withdraw_log:\n",
        "            print(withdrawal)"
      ]
    },
    {
      "cell_type": "code",
      "source": [
        "def main():\n",
        "  # Q8: 3개의 계좌 생성\n",
        "  accounts = [Account(\"Kim\", 1000000), Account(\"Lee\", 2000000), Account(\"Park\", 500000)]\n",
        "\n",
        "  # Q9: 잔액이 100만원 이상인 계좌만 정보 출력\n",
        "  for account in accounts:\n",
        "      if account.base >= 1000000:\n",
        "          account.display_info()\n",
        "          print(\"-----------------------\")\n",
        "\n",
        "  # Q10: 입금 내역과 출금 내역을 출력하는 메서드 추가\n",
        "  account_John = Account(\"John\", 100000)\n",
        "  account_John.deposit(100000)\n",
        "  account_John.deposit(200000)\n",
        "  account_John.deposit(300000)\n",
        "  account_John.withdraw(200000)\n",
        "  account_John.withdraw(200000)\n",
        "  account_John.deposit(300000)\n",
        "  account_John.deposit(300000)\n",
        "  # account_John.withdraw(160000000) # 만약 출금 금액이 잔고 보다 많으면 예외 처리\n",
        "\n",
        "  print(\"입금 내역\")\n",
        "  account_John.deposit_history()\n",
        "  print(\"출금 내역\")\n",
        "  account_John.withdraw_history()\n",
        "\n",
        "  account_John.display_info()\n",
        "\n",
        "main()"
      ],
      "metadata": {
        "colab": {
          "base_uri": "https://localhost:8080/"
        },
        "id": "R8W_wno8GBuo",
        "outputId": "bca21d7e-2c89-4e6e-ac32-ce85a9940db3"
      },
      "execution_count": 20,
      "outputs": [
        {
          "output_type": "stream",
          "name": "stdout",
          "text": [
            "은행이름: SC은행\n",
            "예금주: Kim\n",
            "계좌번호: 627-79-841076\n",
            "잔고: 1,000,000원\n",
            "-----------------------\n",
            "은행이름: SC은행\n",
            "예금주: Lee\n",
            "계좌번호: 844-20-569895\n",
            "잔고: 2,000,000원\n",
            "-----------------------\n",
            "입금 내역\n",
            "100000\n",
            "200000\n",
            "300000\n",
            "300000\n",
            "300000\n",
            "출금 내역\n",
            "200000\n",
            "200000\n",
            "은행이름: SC은행\n",
            "예금주: John\n",
            "계좌번호: 380-73-848679\n",
            "잔고: 909,000.0원\n"
          ]
        }
      ]
    }
  ]
}