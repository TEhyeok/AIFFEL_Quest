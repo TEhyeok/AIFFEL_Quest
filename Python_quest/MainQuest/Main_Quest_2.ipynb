{
  "nbformat": 4,
  "nbformat_minor": 0,
  "metadata": {
    "colab": {
      "provenance": [],
      "authorship_tag": "ABX9TyOGNe2n7i+abo7EEBTDVVUN",
      "include_colab_link": true
    },
    "kernelspec": {
      "name": "python3",
      "display_name": "Python 3"
    },
    "language_info": {
      "name": "python"
    }
  },
  "cells": [
    {
      "cell_type": "markdown",
      "metadata": {
        "id": "view-in-github",
        "colab_type": "text"
      },
      "source": [
        "<a href=\"https://colab.research.google.com/github/TEhyeok/AIFFEL_quest/blob/main/Main_Quest_2.ipynb\" target=\"_parent\"><img src=\"https://colab.research.google.com/assets/colab-badge.svg\" alt=\"Open In Colab\"/></a>"
      ]
    },
    {
      "cell_type": "code",
      "source": [
        "import csv\n",
        "import random\n",
        "\n",
        "class Aiffel:\n",
        "    _id_counter = 0\n",
        "    _course_types = {\"리서치\": \"1\", \"코어\": \"2\"}  # 과정 타입에 대한 코드\n",
        "\n",
        "    def __init__(self, name, year, generation, course_name):\n",
        "        # 학생의 기본 정보 설정\n",
        "        self.name = name\n",
        "        self.year = year[-2:]\n",
        "        self.generation = str(generation).zfill(2)\n",
        "        self.course_name = course_name\n",
        "        self.student_id = self.create_student_id(course_name)  # 학번 생성\n",
        "        self.score = 0\n",
        "        self.penalty_score = 0\n",
        "\n",
        "    # Q1: 학번 생성하기\n",
        "    def create_student_id(self, course_name):\n",
        "        \"\"\"과정명을 기반으로 학번 생성\"\"\"\n",
        "        Aiffel._id_counter += 1\n",
        "        return self.year + self.generation + Aiffel._course_types[course_name] + str(Aiffel._id_counter).zfill(2)\n",
        "\n",
        "    # Q2: 현재까지 생성된 학번 수 가져오기\n",
        "    @staticmethod\n",
        "    def get_id_num():\n",
        "        \"\"\"지금까지 생성된 학번의 개수를 반환\"\"\"\n",
        "        return Aiffel._id_counter\n",
        "\n",
        "    # Q3: 점수 더하기\n",
        "    def score(self, points):\n",
        "        \"\"\"학생에게 점수를 더해주는 함수\"\"\"\n",
        "        assert 1 <= points <= 3, \"Score should be between 1 to 3\"\n",
        "        self.score += points\n",
        "\n",
        "    # Q4: 벌점 주기\n",
        "    def penalty(self, points):\n",
        "        \"\"\"벌점을 부여하고, 해당 벌점만큼 점수를 깎는 함수\"\"\"\n",
        "        self.score -= points\n",
        "        self.penalty_score += points\n",
        "\n",
        "    # Q5: 학생 정보 출력하기\n",
        "    def display_info(self):\n",
        "        \"\"\"학생의 정보를 출력하고, CSV 파일에 저장\"\"\"\n",
        "        data = {\n",
        "            \"Name\": self.name,\n",
        "            \"Student ID\": self.student_id,\n",
        "            \"Course Type\": self.course_name,\n",
        "            \"Quest Total Score\": self.score,\n",
        "            \"Quest Added Score\": self.score + self.penalty_score,\n",
        "            \"Quest Penalty\": self.penalty_score\n",
        "        }\n",
        "        with open('core_list.csv', 'a', newline='') as file:\n",
        "            writer = csv.DictWriter(file, fieldnames=data.keys())\n",
        "            writer.writerow(data)\n",
        "        print(data)\n",
        "\n",
        "    # Q6: 학생 삭제하기\n",
        "    def delete_student(self, name_list, student_list):\n",
        "        \"\"\"주어진 이름 리스트에 따라 학생을 삭제하는 함수\"\"\"\n",
        "        for name in name_list:\n",
        "            for student in student_list:\n",
        "                if student.name == name:\n",
        "                    student_list.remove(student)\n",
        "        return student_list"
      ],
      "metadata": {
        "id": "yjZPR3Zp6z-5"
      },
      "execution_count": 6,
      "outputs": []
    },
    {
      "cell_type": "code",
      "source": [
        "class Aiffel_Group(Aiffel):\n",
        "    _group_names = [\"상생\", \"신뢰\", \"열정\", \"이끔\", \"성장\", \"가치\", \"공유\", \"확산\"]\n",
        "\n",
        "    # Q7: 랜덤으로 그룹 나누기\n",
        "    def random_grouping(self, num, student_list):\n",
        "        \"\"\"학생들을 랜덤으로 그룹으로 나누는 함수\"\"\"\n",
        "        random.shuffle(student_list)\n",
        "        grouped_students = [student_list[n:n+num] for n in range(0, len(student_list), num)]\n",
        "\n",
        "        for i, group in enumerate(grouped_students):\n",
        "            print(f\"Group {Aiffel_Group._group_names[i % 8]} : {[student.name for student in group]}\")\n",
        "\n",
        "    # Q10: 그룹 점수를 길드 점수로 반영하기\n",
        "    def group2guild_score(self, group_name, group_score, guild_list):\n",
        "        \"\"\"그룹의 점수를 해당하는 길드와 길드의 학생들에게 반영하는 함수\"\"\"\n",
        "        affected_guilds = [guild for guild in guild_list if group_name in guild.guild_name]\n",
        "\n",
        "        for guild in affected_guilds:\n",
        "            guild.guild_score += group_score\n",
        "            for student in guild.students:\n",
        "                student.score += group_score"
      ],
      "metadata": {
        "id": "W6uPztmuUbe-"
      },
      "execution_count": 7,
      "outputs": []
    },
    {
      "cell_type": "code",
      "source": [
        "class Aiffel_Guild(Aiffel):\n",
        "    _guild_names = [\"힌튼\", \"알트만\", \"응\", \"하사비스\"]\n",
        "\n",
        "    def __init__(self, guild_name, students):\n",
        "        \"\"\"길드 초기 설정\"\"\"\n",
        "        self.guild_name = guild_name\n",
        "        self.students = students\n",
        "        self.guild_score = 0\n",
        "\n",
        "    # Q8 & Q11: 길드 정보 출력하기\n",
        "    def display_info(self):\n",
        "        \"\"\"길드의 정보와 길드에 속한 학생들의 정보를 출력\"\"\"\n",
        "        super().display_info()\n",
        "        print(f\"Guild Name: {self.guild_name}, Guild Score: {self.guild_score}\")\n",
        "\n",
        "    # Q9: 길드 점수 더하기\n",
        "    def guild_score(self, score):\n",
        "        \"\"\"길드와 그 길드에 속한 학생들에게 점수를 더하는 함수\"\"\"\n",
        "        self.guild_score += score\n",
        "        for student in self.students:\n",
        "            student.score += score"
      ],
      "metadata": {
        "id": "j2QmmG-eUglO"
      },
      "execution_count": 8,
      "outputs": []
    },
    {
      "cell_type": "code",
      "source": [
        "# 테스트!\n",
        "student1 = Aiffel(\"최재혁\", \"2023\", 25, \"코어\")\n",
        "student2 = Aiffel(\"천지운\", \"2023\", 25, \"코어\")\n",
        "print(student1.student_id)  # 232501\n",
        "print(student2.student_id)  # 232502"
      ],
      "metadata": {
        "colab": {
          "base_uri": "https://localhost:8080/"
        },
        "id": "Xgway13XUmey",
        "outputId": "e0d4c6f5-d3c2-4888-c951-5f63991686b2"
      },
      "execution_count": 10,
      "outputs": [
        {
          "output_type": "stream",
          "name": "stdout",
          "text": [
            "2325203\n",
            "2325204\n"
          ]
        }
      ]
    }
  ]
}